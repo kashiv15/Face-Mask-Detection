{
  "nbformat": 4,
  "nbformat_minor": 0,
  "metadata": {
    "colab": {
      "name": "Copy of final_1.ipynb",
      "provenance": [],
      "collapsed_sections": []
    },
    "kernelspec": {
      "name": "python3",
      "display_name": "Python 3"
    },
    "language_info": {
      "name": "python"
    },
    "widgets": {
      "application/vnd.jupyter.widget-state+json": {
        "405a7e9e91c541bfa2ed8ee635f70668": {
          "model_module": "@jupyter-widgets/controls",
          "model_name": "HBoxModel",
          "state": {
            "_view_name": "HBoxView",
            "_dom_classes": [],
            "_model_name": "HBoxModel",
            "_view_module": "@jupyter-widgets/controls",
            "_model_module_version": "1.5.0",
            "_view_count": null,
            "_view_module_version": "1.5.0",
            "box_style": "",
            "layout": "IPY_MODEL_db4e14fce3d24f128cf56351ff08e7c0",
            "_model_module": "@jupyter-widgets/controls",
            "children": [
              "IPY_MODEL_b371105a66cc425b99ba1cfde8b39ed0",
              "IPY_MODEL_8d52a5d35f2e4e8b9ce60af2247799b8"
            ]
          }
        },
        "db4e14fce3d24f128cf56351ff08e7c0": {
          "model_module": "@jupyter-widgets/base",
          "model_name": "LayoutModel",
          "state": {
            "_view_name": "LayoutView",
            "grid_template_rows": null,
            "right": null,
            "justify_content": null,
            "_view_module": "@jupyter-widgets/base",
            "overflow": null,
            "_model_module_version": "1.2.0",
            "_view_count": null,
            "flex_flow": null,
            "width": null,
            "min_width": null,
            "border": null,
            "align_items": null,
            "bottom": null,
            "_model_module": "@jupyter-widgets/base",
            "top": null,
            "grid_column": null,
            "overflow_y": null,
            "overflow_x": null,
            "grid_auto_flow": null,
            "grid_area": null,
            "grid_template_columns": null,
            "flex": null,
            "_model_name": "LayoutModel",
            "justify_items": null,
            "grid_row": null,
            "max_height": null,
            "align_content": null,
            "visibility": null,
            "align_self": null,
            "height": null,
            "min_height": null,
            "padding": null,
            "grid_auto_rows": null,
            "grid_gap": null,
            "max_width": null,
            "order": null,
            "_view_module_version": "1.2.0",
            "grid_template_areas": null,
            "object_position": null,
            "object_fit": null,
            "grid_auto_columns": null,
            "margin": null,
            "display": null,
            "left": null
          }
        },
        "b371105a66cc425b99ba1cfde8b39ed0": {
          "model_module": "@jupyter-widgets/controls",
          "model_name": "FloatProgressModel",
          "state": {
            "_view_name": "ProgressView",
            "style": "IPY_MODEL_02b0b3016b1a44ed84786ce525a69df7",
            "_dom_classes": [],
            "description": "100%",
            "_model_name": "FloatProgressModel",
            "bar_style": "success",
            "max": 14212972,
            "_view_module": "@jupyter-widgets/controls",
            "_model_module_version": "1.5.0",
            "value": 14212972,
            "_view_count": null,
            "_view_module_version": "1.5.0",
            "orientation": "horizontal",
            "min": 0,
            "description_tooltip": null,
            "_model_module": "@jupyter-widgets/controls",
            "layout": "IPY_MODEL_b29025cb53e34c84a013b2bad0bcd3f2"
          }
        },
        "8d52a5d35f2e4e8b9ce60af2247799b8": {
          "model_module": "@jupyter-widgets/controls",
          "model_name": "HTMLModel",
          "state": {
            "_view_name": "HTMLView",
            "style": "IPY_MODEL_172592214b174103afbbd5fd9463225d",
            "_dom_classes": [],
            "description": "",
            "_model_name": "HTMLModel",
            "placeholder": "​",
            "_view_module": "@jupyter-widgets/controls",
            "_model_module_version": "1.5.0",
            "value": " 13.6M/13.6M [00:00&lt;00:00, 57.8MB/s]",
            "_view_count": null,
            "_view_module_version": "1.5.0",
            "description_tooltip": null,
            "_model_module": "@jupyter-widgets/controls",
            "layout": "IPY_MODEL_bb54767d0bc042ea89c520c818cc300f"
          }
        },
        "02b0b3016b1a44ed84786ce525a69df7": {
          "model_module": "@jupyter-widgets/controls",
          "model_name": "ProgressStyleModel",
          "state": {
            "_view_name": "StyleView",
            "_model_name": "ProgressStyleModel",
            "description_width": "initial",
            "_view_module": "@jupyter-widgets/base",
            "_model_module_version": "1.5.0",
            "_view_count": null,
            "_view_module_version": "1.2.0",
            "bar_color": null,
            "_model_module": "@jupyter-widgets/controls"
          }
        },
        "b29025cb53e34c84a013b2bad0bcd3f2": {
          "model_module": "@jupyter-widgets/base",
          "model_name": "LayoutModel",
          "state": {
            "_view_name": "LayoutView",
            "grid_template_rows": null,
            "right": null,
            "justify_content": null,
            "_view_module": "@jupyter-widgets/base",
            "overflow": null,
            "_model_module_version": "1.2.0",
            "_view_count": null,
            "flex_flow": null,
            "width": null,
            "min_width": null,
            "border": null,
            "align_items": null,
            "bottom": null,
            "_model_module": "@jupyter-widgets/base",
            "top": null,
            "grid_column": null,
            "overflow_y": null,
            "overflow_x": null,
            "grid_auto_flow": null,
            "grid_area": null,
            "grid_template_columns": null,
            "flex": null,
            "_model_name": "LayoutModel",
            "justify_items": null,
            "grid_row": null,
            "max_height": null,
            "align_content": null,
            "visibility": null,
            "align_self": null,
            "height": null,
            "min_height": null,
            "padding": null,
            "grid_auto_rows": null,
            "grid_gap": null,
            "max_width": null,
            "order": null,
            "_view_module_version": "1.2.0",
            "grid_template_areas": null,
            "object_position": null,
            "object_fit": null,
            "grid_auto_columns": null,
            "margin": null,
            "display": null,
            "left": null
          }
        },
        "172592214b174103afbbd5fd9463225d": {
          "model_module": "@jupyter-widgets/controls",
          "model_name": "DescriptionStyleModel",
          "state": {
            "_view_name": "StyleView",
            "_model_name": "DescriptionStyleModel",
            "description_width": "",
            "_view_module": "@jupyter-widgets/base",
            "_model_module_version": "1.5.0",
            "_view_count": null,
            "_view_module_version": "1.2.0",
            "_model_module": "@jupyter-widgets/controls"
          }
        },
        "bb54767d0bc042ea89c520c818cc300f": {
          "model_module": "@jupyter-widgets/base",
          "model_name": "LayoutModel",
          "state": {
            "_view_name": "LayoutView",
            "grid_template_rows": null,
            "right": null,
            "justify_content": null,
            "_view_module": "@jupyter-widgets/base",
            "overflow": null,
            "_model_module_version": "1.2.0",
            "_view_count": null,
            "flex_flow": null,
            "width": null,
            "min_width": null,
            "border": null,
            "align_items": null,
            "bottom": null,
            "_model_module": "@jupyter-widgets/base",
            "top": null,
            "grid_column": null,
            "overflow_y": null,
            "overflow_x": null,
            "grid_auto_flow": null,
            "grid_area": null,
            "grid_template_columns": null,
            "flex": null,
            "_model_name": "LayoutModel",
            "justify_items": null,
            "grid_row": null,
            "max_height": null,
            "align_content": null,
            "visibility": null,
            "align_self": null,
            "height": null,
            "min_height": null,
            "padding": null,
            "grid_auto_rows": null,
            "grid_gap": null,
            "max_width": null,
            "order": null,
            "_view_module_version": "1.2.0",
            "grid_template_areas": null,
            "object_position": null,
            "object_fit": null,
            "grid_auto_columns": null,
            "margin": null,
            "display": null,
            "left": null
          }
        },
        "156606d1dc394b098338dc648e9ebf61": {
          "model_module": "@jupyter-widgets/controls",
          "model_name": "HBoxModel",
          "state": {
            "_view_name": "HBoxView",
            "_dom_classes": [],
            "_model_name": "HBoxModel",
            "_view_module": "@jupyter-widgets/controls",
            "_model_module_version": "1.5.0",
            "_view_count": null,
            "_view_module_version": "1.5.0",
            "box_style": "",
            "layout": "IPY_MODEL_fc8dceb30f044ae7a9d0e652c23c64a3",
            "_model_module": "@jupyter-widgets/controls",
            "children": [
              "IPY_MODEL_60935a645dea43c0bad899d6c0d18add",
              "IPY_MODEL_9d961f66d12d4aa0bbbf7bc0f84db886"
            ]
          }
        },
        "fc8dceb30f044ae7a9d0e652c23c64a3": {
          "model_module": "@jupyter-widgets/base",
          "model_name": "LayoutModel",
          "state": {
            "_view_name": "LayoutView",
            "grid_template_rows": null,
            "right": null,
            "justify_content": null,
            "_view_module": "@jupyter-widgets/base",
            "overflow": null,
            "_model_module_version": "1.2.0",
            "_view_count": null,
            "flex_flow": null,
            "width": null,
            "min_width": null,
            "border": null,
            "align_items": null,
            "bottom": null,
            "_model_module": "@jupyter-widgets/base",
            "top": null,
            "grid_column": null,
            "overflow_y": null,
            "overflow_x": null,
            "grid_auto_flow": null,
            "grid_area": null,
            "grid_template_columns": null,
            "flex": null,
            "_model_name": "LayoutModel",
            "justify_items": null,
            "grid_row": null,
            "max_height": null,
            "align_content": null,
            "visibility": null,
            "align_self": null,
            "height": null,
            "min_height": null,
            "padding": null,
            "grid_auto_rows": null,
            "grid_gap": null,
            "max_width": null,
            "order": null,
            "_view_module_version": "1.2.0",
            "grid_template_areas": null,
            "object_position": null,
            "object_fit": null,
            "grid_auto_columns": null,
            "margin": null,
            "display": null,
            "left": null
          }
        },
        "60935a645dea43c0bad899d6c0d18add": {
          "model_module": "@jupyter-widgets/controls",
          "model_name": "FloatProgressModel",
          "state": {
            "_view_name": "ProgressView",
            "style": "IPY_MODEL_bc0d9e3e1ade400787b57d08b5814ba2",
            "_dom_classes": [],
            "description": "100%",
            "_model_name": "FloatProgressModel",
            "bar_style": "success",
            "max": 100,
            "_view_module": "@jupyter-widgets/controls",
            "_model_module_version": "1.5.0",
            "value": 100,
            "_view_count": null,
            "_view_module_version": "1.5.0",
            "orientation": "horizontal",
            "min": 0,
            "description_tooltip": null,
            "_model_module": "@jupyter-widgets/controls",
            "layout": "IPY_MODEL_305c11ae9f6849ea92111d2adaba1d6c"
          }
        },
        "9d961f66d12d4aa0bbbf7bc0f84db886": {
          "model_module": "@jupyter-widgets/controls",
          "model_name": "HTMLModel",
          "state": {
            "_view_name": "HTMLView",
            "style": "IPY_MODEL_4e9b173dd6da48b0ac3919b01eebe0da",
            "_dom_classes": [],
            "description": "",
            "_model_name": "HTMLModel",
            "placeholder": "​",
            "_view_module": "@jupyter-widgets/controls",
            "_model_module_version": "1.5.0",
            "value": " 100/100 [1:59:42&lt;00:00, 71.82s/it]",
            "_view_count": null,
            "_view_module_version": "1.5.0",
            "description_tooltip": null,
            "_model_module": "@jupyter-widgets/controls",
            "layout": "IPY_MODEL_b519a2299c55432b885b967204d7a849"
          }
        },
        "bc0d9e3e1ade400787b57d08b5814ba2": {
          "model_module": "@jupyter-widgets/controls",
          "model_name": "ProgressStyleModel",
          "state": {
            "_view_name": "StyleView",
            "_model_name": "ProgressStyleModel",
            "description_width": "initial",
            "_view_module": "@jupyter-widgets/base",
            "_model_module_version": "1.5.0",
            "_view_count": null,
            "_view_module_version": "1.2.0",
            "bar_color": null,
            "_model_module": "@jupyter-widgets/controls"
          }
        },
        "305c11ae9f6849ea92111d2adaba1d6c": {
          "model_module": "@jupyter-widgets/base",
          "model_name": "LayoutModel",
          "state": {
            "_view_name": "LayoutView",
            "grid_template_rows": null,
            "right": null,
            "justify_content": null,
            "_view_module": "@jupyter-widgets/base",
            "overflow": null,
            "_model_module_version": "1.2.0",
            "_view_count": null,
            "flex_flow": null,
            "width": null,
            "min_width": null,
            "border": null,
            "align_items": null,
            "bottom": null,
            "_model_module": "@jupyter-widgets/base",
            "top": null,
            "grid_column": null,
            "overflow_y": null,
            "overflow_x": null,
            "grid_auto_flow": null,
            "grid_area": null,
            "grid_template_columns": null,
            "flex": null,
            "_model_name": "LayoutModel",
            "justify_items": null,
            "grid_row": null,
            "max_height": null,
            "align_content": null,
            "visibility": null,
            "align_self": null,
            "height": null,
            "min_height": null,
            "padding": null,
            "grid_auto_rows": null,
            "grid_gap": null,
            "max_width": null,
            "order": null,
            "_view_module_version": "1.2.0",
            "grid_template_areas": null,
            "object_position": null,
            "object_fit": null,
            "grid_auto_columns": null,
            "margin": null,
            "display": null,
            "left": null
          }
        },
        "4e9b173dd6da48b0ac3919b01eebe0da": {
          "model_module": "@jupyter-widgets/controls",
          "model_name": "DescriptionStyleModel",
          "state": {
            "_view_name": "StyleView",
            "_model_name": "DescriptionStyleModel",
            "description_width": "",
            "_view_module": "@jupyter-widgets/base",
            "_model_module_version": "1.5.0",
            "_view_count": null,
            "_view_module_version": "1.2.0",
            "_model_module": "@jupyter-widgets/controls"
          }
        },
        "b519a2299c55432b885b967204d7a849": {
          "model_module": "@jupyter-widgets/base",
          "model_name": "LayoutModel",
          "state": {
            "_view_name": "LayoutView",
            "grid_template_rows": null,
            "right": null,
            "justify_content": null,
            "_view_module": "@jupyter-widgets/base",
            "overflow": null,
            "_model_module_version": "1.2.0",
            "_view_count": null,
            "flex_flow": null,
            "width": null,
            "min_width": null,
            "border": null,
            "align_items": null,
            "bottom": null,
            "_model_module": "@jupyter-widgets/base",
            "top": null,
            "grid_column": null,
            "overflow_y": null,
            "overflow_x": null,
            "grid_auto_flow": null,
            "grid_area": null,
            "grid_template_columns": null,
            "flex": null,
            "_model_name": "LayoutModel",
            "justify_items": null,
            "grid_row": null,
            "max_height": null,
            "align_content": null,
            "visibility": null,
            "align_self": null,
            "height": null,
            "min_height": null,
            "padding": null,
            "grid_auto_rows": null,
            "grid_gap": null,
            "max_width": null,
            "order": null,
            "_view_module_version": "1.2.0",
            "grid_template_areas": null,
            "object_position": null,
            "object_fit": null,
            "grid_auto_columns": null,
            "margin": null,
            "display": null,
            "left": null
          }
        }
      }
    },
    "accelerator": "GPU"
  },
  "cells": [
    {
      "cell_type": "code",
      "metadata": {
        "id": "IFncuSjuQDv3"
      },
      "source": [
        "import torch\n",
        "import torch.nn as nn\n",
        "import torch.nn.functional as F\n",
        "import torch.optim as optim\n",
        "\n",
        "#importing dependencies related to image transformations\n",
        "import torchvision\n",
        "from torchvision import transforms\n",
        "from PIL import Image\n",
        "\n",
        "#importing dependencies related to data loading\n",
        "from torchvision import datasets\n",
        "from torch.utils.data import DataLoader\n",
        "\n",
        "#importing Tensorboard for data visualization\n",
        "from torch.utils.tensorboard import SummaryWriter\n"
      ],
      "execution_count": null,
      "outputs": []
    },
    {
      "cell_type": "code",
      "metadata": {
        "colab": {
          "base_uri": "https://localhost:8080/"
        },
        "id": "CzBkm3KoX3pj",
        "outputId": "a48a7fce-84ea-4cc8-d8d3-245878282796"
      },
      "source": [
        "from google.colab import drive\n",
        "drive.mount('/content/gdrive')\n"
      ],
      "execution_count": null,
      "outputs": [
        {
          "output_type": "stream",
          "text": [
            "Mounted at /content/gdrive\n"
          ],
          "name": "stdout"
        }
      ]
    },
    {
      "cell_type": "code",
      "metadata": {
        "id": "a6lJzWvUQi0r"
      },
      "source": [
        "image_transforms = {\n",
        "    # Train uses data augmentation\n",
        "    'train':\n",
        "    transforms.Compose([\n",
        "        transforms.Resize(size=(224,224)),\n",
        "        transforms.RandomRotation(degrees=15),\n",
        "        transforms.ColorJitter(),\n",
        "        transforms.RandomHorizontalFlip(),\n",
        "        transforms.ToTensor(),\n",
        "        transforms.Normalize([0.485, 0.456, 0.406],\n",
        "                             [0.229, 0.224, 0.225])  # Imagenet standards\n",
        "    ]),\n",
        "    # Validation does not use augmentation\n",
        "    'test':\n",
        "    transforms.Compose([\n",
        "        transforms.Resize(size=(224,224)),\n",
        "        transforms.ToTensor(),\n",
        "        transforms.Normalize([0.485, 0.456, 0.406], \n",
        "                             [0.229, 0.224, 0.225])\n",
        "    ])\n",
        "}"
      ],
      "execution_count": null,
      "outputs": []
    },
    {
      "cell_type": "code",
      "metadata": {
        "id": "uhDQjXAARRRt"
      },
      "source": [
        "data = {\n",
        "    'train':\n",
        "    datasets.ImageFolder(root='/content/gdrive/MyDrive/Face Mask Dataset/Train', transform=image_transforms['train']),\n",
        "    'test':\n",
        "    datasets.ImageFolder(root='/content/gdrive/MyDrive/Face Mask Dataset/Test', transform=image_transforms['test']),\n",
        "}\n",
        "\n",
        "# Dataloader iterators, used for making batches\n",
        "dataloaders = {\n",
        "    'train': DataLoader(data['train'], batch_size=64, shuffle=True),\n",
        "    'test': DataLoader(data['test'], batch_size=8, shuffle=False)\n",
        "}"
      ],
      "execution_count": null,
      "outputs": []
    },
    {
      "cell_type": "code",
      "metadata": {
        "colab": {
          "base_uri": "https://localhost:8080/",
          "height": 124,
          "referenced_widgets": [
            "405a7e9e91c541bfa2ed8ee635f70668",
            "db4e14fce3d24f128cf56351ff08e7c0",
            "b371105a66cc425b99ba1cfde8b39ed0",
            "8d52a5d35f2e4e8b9ce60af2247799b8",
            "02b0b3016b1a44ed84786ce525a69df7",
            "b29025cb53e34c84a013b2bad0bcd3f2",
            "172592214b174103afbbd5fd9463225d",
            "bb54767d0bc042ea89c520c818cc300f"
          ]
        },
        "id": "1L0p_JFRQmzt",
        "outputId": "9426447d-42ec-4c5e-8aa7-47881429cbf2"
      },
      "source": [
        "model = torch.hub.load('pytorch/vision:v0.6.0', 'mobilenet_v2', pretrained=True)"
      ],
      "execution_count": null,
      "outputs": [
        {
          "output_type": "stream",
          "text": [
            "Downloading: \"https://github.com/pytorch/vision/archive/v0.6.0.zip\" to /root/.cache/torch/hub/v0.6.0.zip\n",
            "Downloading: \"https://download.pytorch.org/models/mobilenet_v2-b0353104.pth\" to /root/.cache/torch/hub/checkpoints/mobilenet_v2-b0353104.pth\n"
          ],
          "name": "stderr"
        },
        {
          "output_type": "display_data",
          "data": {
            "application/vnd.jupyter.widget-view+json": {
              "model_id": "405a7e9e91c541bfa2ed8ee635f70668",
              "version_minor": 0,
              "version_major": 2
            },
            "text/plain": [
              "HBox(children=(FloatProgress(value=0.0, max=14212972.0), HTML(value='')))"
            ]
          },
          "metadata": {
            "tags": []
          }
        },
        {
          "output_type": "stream",
          "text": [
            "\n"
          ],
          "name": "stdout"
        }
      ]
    },
    {
      "cell_type": "code",
      "metadata": {
        "id": "g_iGVECe3dnw",
        "colab": {
          "base_uri": "https://localhost:8080/"
        },
        "outputId": "98bd19ce-e19b-490d-fee1-cc2941298d4c"
      },
      "source": [
        "!nvidia-smi"
      ],
      "execution_count": null,
      "outputs": [
        {
          "output_type": "stream",
          "text": [
            "Mon May  3 03:29:51 2021       \n",
            "+-----------------------------------------------------------------------------+\n",
            "| NVIDIA-SMI 465.19.01    Driver Version: 460.32.03    CUDA Version: 11.2     |\n",
            "|-------------------------------+----------------------+----------------------+\n",
            "| GPU  Name        Persistence-M| Bus-Id        Disp.A | Volatile Uncorr. ECC |\n",
            "| Fan  Temp  Perf  Pwr:Usage/Cap|         Memory-Usage | GPU-Util  Compute M. |\n",
            "|                               |                      |               MIG M. |\n",
            "|===============================+======================+======================|\n",
            "|   0  Tesla T4            Off  | 00000000:00:04.0 Off |                    0 |\n",
            "| N/A   55C    P8    10W /  70W |      0MiB / 15109MiB |      0%      Default |\n",
            "|                               |                      |                  N/A |\n",
            "+-------------------------------+----------------------+----------------------+\n",
            "                                                                               \n",
            "+-----------------------------------------------------------------------------+\n",
            "| Processes:                                                                  |\n",
            "|  GPU   GI   CI        PID   Type   Process name                  GPU Memory |\n",
            "|        ID   ID                                                   Usage      |\n",
            "|=============================================================================|\n",
            "|  No running processes found                                                 |\n",
            "+-----------------------------------------------------------------------------+\n"
          ],
          "name": "stdout"
        }
      ]
    },
    {
      "cell_type": "code",
      "metadata": {
        "id": "tRuGlzFgQpxL"
      },
      "source": [
        "for param in model.parameters():\n",
        "    param.requires_grad = False"
      ],
      "execution_count": null,
      "outputs": []
    },
    {
      "cell_type": "code",
      "metadata": {
        "id": "PdPxUApHQtd2"
      },
      "source": [
        "model.classifier[1] = nn.Sequential(\n",
        "                      nn.Linear(1280, 512),\n",
        "                      nn.ReLU(),\n",
        "                      nn.Linear(512, 256),\n",
        "                      nn.ReLU(), \n",
        "                      nn.Dropout(0.3),\n",
        "                      nn.Linear(256, 128),\n",
        "                      nn.ReLU(),\n",
        "                      nn.Linear(128, 64),\n",
        "                      nn.ReLU(),\n",
        "                      nn.Linear(64, 32),\n",
        "                      nn.ReLU(),\n",
        "                      nn.Dropout(0.3),\n",
        "                      nn.Linear(32, 2), \n",
        "                      nn.LogSoftmax(dim=1))"
      ],
      "execution_count": null,
      "outputs": []
    },
    {
      "cell_type": "code",
      "metadata": {
        "colab": {
          "base_uri": "https://localhost:8080/"
        },
        "id": "EVTUCSmZQ6CB",
        "outputId": "868c75af-0034-40e5-be0e-7991902f433f"
      },
      "source": [
        "print(sum(p.numel() for p in model.parameters() if p.requires_grad))"
      ],
      "execution_count": null,
      "outputs": [
        {
          "output_type": "stream",
          "text": [
            "830498\n"
          ],
          "name": "stdout"
        }
      ]
    },
    {
      "cell_type": "code",
      "metadata": {
        "colab": {
          "base_uri": "https://localhost:8080/"
        },
        "id": "MhFsRj-uQ-NO",
        "outputId": "b180e596-dfc5-48b4-e2bb-1c7cfbccd2ce"
      },
      "source": [
        "if torch.cuda.is_available():\n",
        "    print('training on GPU')\n",
        "    device = torch.device(\"cuda:0\")\n",
        "else:\n",
        "    print('training on CPU')\n",
        "    device = torch.device(\"cpu\")\n"
      ],
      "execution_count": null,
      "outputs": [
        {
          "output_type": "stream",
          "text": [
            "training on GPU\n"
          ],
          "name": "stdout"
        }
      ]
    },
    {
      "cell_type": "code",
      "metadata": {
        "id": "OchPK62MQ_Tp",
        "colab": {
          "base_uri": "https://localhost:8080/",
          "height": 1000,
          "referenced_widgets": [
            "156606d1dc394b098338dc648e9ebf61",
            "fc8dceb30f044ae7a9d0e652c23c64a3",
            "60935a645dea43c0bad899d6c0d18add",
            "9d961f66d12d4aa0bbbf7bc0f84db886",
            "bc0d9e3e1ade400787b57d08b5814ba2",
            "305c11ae9f6849ea92111d2adaba1d6c",
            "4e9b173dd6da48b0ac3919b01eebe0da",
            "b519a2299c55432b885b967204d7a849"
          ]
        },
        "outputId": "7dd5a57a-f083-49cf-dc55-01e31b6fd44c"
      },
      "source": [
        "from tqdm.notebook import tqdm #for loading bars\n",
        "train_loss = []\n",
        "test_loss = []\n",
        "train_loader=dataloaders['train']\n",
        "val_loader = dataloaders['test']\n",
        "epochs = 100\n",
        "optimizer = optim.Adam(model.parameters(), lr=0.001)\n",
        "criterion = torch.nn.CrossEntropyLoss()\n",
        "\n",
        "\n",
        "for epoch in tqdm(range(epochs)):\n",
        "  training_loss = 0.0\n",
        "  valid_loss = 0.0\n",
        "  model.train().to(device)\n",
        "  for batch in train_loader:\n",
        "    optimizer.zero_grad()\n",
        "    inputs, targets = batch\n",
        "    inputs = inputs.to(device)\n",
        "    targets = targets.to(device)\n",
        "    output = model(inputs).to(device)\n",
        "    loss = criterion(output, targets).to(device)\n",
        "    loss.backward()\n",
        "    optimizer.step()\n",
        "    training_loss += loss.data.item() * inputs.size(0)\n",
        "  training_loss /= len(train_loader.dataset)\n",
        "        \n",
        "  model.eval().to(device)\n",
        "  num_correct = 0 \n",
        "  num_examples = 0\n",
        "  for batch in (val_loader):\n",
        "    inputs, targets = batch\n",
        "    inputs = inputs.to(device)\n",
        "    output = model(inputs)\n",
        "    targets = targets.to(device)\n",
        "    loss = criterion(output,targets) \n",
        "    valid_loss += loss.data.item() * inputs.size(0)          \n",
        "    correct = torch.eq(torch.max(F.softmax(output, dim=1), dim=1)[1], targets).view(-1)\n",
        "    num_correct += torch.sum(correct).item()\n",
        "    num_examples += correct.shape[0]\n",
        "  valid_loss /= len(val_loader.dataset)\n",
        "\n",
        "  train_loss.append(training_loss)\n",
        "  test_loss.append(valid_loss)\n",
        "\n",
        "  print('Epoch: {}, Training Loss: {:.4f}, Validation Loss: {:.4f}, accuracy = {:.4f}'.format(epoch, training_loss,valid_loss, num_correct / num_examples))\n",
        "        \n",
        "        #save model\n",
        "  if(training_loss<0.005):\n",
        "      torch.save(model,\"saves/\"+str(epoch)+\".pth\")\n",
        "        \n"
      ],
      "execution_count": null,
      "outputs": [
        {
          "output_type": "display_data",
          "data": {
            "application/vnd.jupyter.widget-view+json": {
              "model_id": "156606d1dc394b098338dc648e9ebf61",
              "version_minor": 0,
              "version_major": 2
            },
            "text/plain": [
              "HBox(children=(FloatProgress(value=0.0), HTML(value='')))"
            ]
          },
          "metadata": {
            "tags": []
          }
        },
        {
          "output_type": "stream",
          "text": [
            "Epoch: 0, Training Loss: 0.1465, Validation Loss: 0.0765, accuracy = 0.9738\n",
            "Epoch: 1, Training Loss: 0.0418, Validation Loss: 0.0248, accuracy = 0.9899\n",
            "Epoch: 2, Training Loss: 0.0477, Validation Loss: 0.0607, accuracy = 0.9768\n",
            "Epoch: 3, Training Loss: 0.0417, Validation Loss: 0.0125, accuracy = 0.9940\n",
            "Epoch: 4, Training Loss: 0.0274, Validation Loss: 0.0112, accuracy = 0.9960\n",
            "Epoch: 5, Training Loss: 0.0366, Validation Loss: 0.0118, accuracy = 0.9940\n",
            "Epoch: 6, Training Loss: 0.0324, Validation Loss: 0.0109, accuracy = 0.9940\n",
            "Epoch: 7, Training Loss: 0.0318, Validation Loss: 0.0304, accuracy = 0.9899\n",
            "Epoch: 8, Training Loss: 0.0334, Validation Loss: 0.0126, accuracy = 0.9950\n",
            "Epoch: 9, Training Loss: 0.0327, Validation Loss: 0.0107, accuracy = 0.9940\n",
            "Epoch: 10, Training Loss: 0.0245, Validation Loss: 0.0176, accuracy = 0.9950\n",
            "Epoch: 11, Training Loss: 0.0276, Validation Loss: 0.0119, accuracy = 0.9940\n",
            "Epoch: 12, Training Loss: 0.0240, Validation Loss: 0.0124, accuracy = 0.9960\n",
            "Epoch: 13, Training Loss: 0.0291, Validation Loss: 0.0145, accuracy = 0.9950\n",
            "Epoch: 14, Training Loss: 0.0263, Validation Loss: 0.0106, accuracy = 0.9980\n",
            "Epoch: 15, Training Loss: 0.0281, Validation Loss: 0.0085, accuracy = 0.9980\n",
            "Epoch: 16, Training Loss: 0.0351, Validation Loss: 0.0127, accuracy = 0.9919\n",
            "Epoch: 17, Training Loss: 0.0240, Validation Loss: 0.0101, accuracy = 0.9970\n",
            "Epoch: 18, Training Loss: 0.0191, Validation Loss: 0.0069, accuracy = 0.9970\n",
            "Epoch: 19, Training Loss: 0.0222, Validation Loss: 0.0091, accuracy = 0.9960\n",
            "Epoch: 20, Training Loss: 0.0197, Validation Loss: 0.0088, accuracy = 0.9960\n",
            "Epoch: 21, Training Loss: 0.0262, Validation Loss: 0.0110, accuracy = 0.9950\n",
            "Epoch: 22, Training Loss: 0.0185, Validation Loss: 0.0068, accuracy = 0.9980\n",
            "Epoch: 23, Training Loss: 0.0175, Validation Loss: 0.0077, accuracy = 0.9980\n",
            "Epoch: 24, Training Loss: 0.0213, Validation Loss: 0.0123, accuracy = 0.9960\n",
            "Epoch: 25, Training Loss: 0.0212, Validation Loss: 0.0074, accuracy = 0.9990\n",
            "Epoch: 26, Training Loss: 0.0178, Validation Loss: 0.0185, accuracy = 0.9909\n",
            "Epoch: 27, Training Loss: 0.0229, Validation Loss: 0.0103, accuracy = 0.9970\n",
            "Epoch: 28, Training Loss: 0.0196, Validation Loss: 0.0087, accuracy = 0.9950\n",
            "Epoch: 29, Training Loss: 0.0190, Validation Loss: 0.0083, accuracy = 0.9980\n",
            "Epoch: 30, Training Loss: 0.0149, Validation Loss: 0.0127, accuracy = 0.9950\n",
            "Epoch: 31, Training Loss: 0.0193, Validation Loss: 0.0074, accuracy = 0.9980\n",
            "Epoch: 32, Training Loss: 0.0166, Validation Loss: 0.0096, accuracy = 0.9950\n",
            "Epoch: 33, Training Loss: 0.0126, Validation Loss: 0.0094, accuracy = 0.9980\n",
            "Epoch: 34, Training Loss: 0.0141, Validation Loss: 0.0153, accuracy = 0.9960\n",
            "Epoch: 35, Training Loss: 0.0168, Validation Loss: 0.0104, accuracy = 0.9950\n",
            "Epoch: 36, Training Loss: 0.0118, Validation Loss: 0.0198, accuracy = 0.9909\n",
            "Epoch: 37, Training Loss: 0.0248, Validation Loss: 0.0153, accuracy = 0.9929\n",
            "Epoch: 38, Training Loss: 0.0170, Validation Loss: 0.0079, accuracy = 0.9980\n",
            "Epoch: 39, Training Loss: 0.0183, Validation Loss: 0.0078, accuracy = 0.9970\n",
            "Epoch: 40, Training Loss: 0.0137, Validation Loss: 0.0091, accuracy = 0.9980\n",
            "Epoch: 41, Training Loss: 0.0135, Validation Loss: 0.0085, accuracy = 0.9970\n",
            "Epoch: 42, Training Loss: 0.0108, Validation Loss: 0.0094, accuracy = 0.9960\n",
            "Epoch: 43, Training Loss: 0.0112, Validation Loss: 0.0164, accuracy = 0.9960\n",
            "Epoch: 44, Training Loss: 0.0171, Validation Loss: 0.0107, accuracy = 0.9950\n",
            "Epoch: 45, Training Loss: 0.0130, Validation Loss: 0.0086, accuracy = 0.9960\n",
            "Epoch: 46, Training Loss: 0.0119, Validation Loss: 0.0071, accuracy = 0.9970\n",
            "Epoch: 47, Training Loss: 0.0174, Validation Loss: 0.0094, accuracy = 0.9960\n",
            "Epoch: 48, Training Loss: 0.0128, Validation Loss: 0.0106, accuracy = 0.9950\n",
            "Epoch: 49, Training Loss: 0.0192, Validation Loss: 0.0100, accuracy = 0.9970\n",
            "Epoch: 50, Training Loss: 0.0137, Validation Loss: 0.0080, accuracy = 0.9970\n",
            "Epoch: 51, Training Loss: 0.0116, Validation Loss: 0.0105, accuracy = 0.9970\n",
            "Epoch: 52, Training Loss: 0.0145, Validation Loss: 0.0090, accuracy = 0.9970\n",
            "Epoch: 53, Training Loss: 0.0189, Validation Loss: 0.0097, accuracy = 0.9960\n",
            "Epoch: 54, Training Loss: 0.0122, Validation Loss: 0.0120, accuracy = 0.9960\n",
            "Epoch: 55, Training Loss: 0.0131, Validation Loss: 0.0068, accuracy = 0.9960\n",
            "Epoch: 56, Training Loss: 0.0123, Validation Loss: 0.0108, accuracy = 0.9970\n",
            "Epoch: 57, Training Loss: 0.0139, Validation Loss: 0.0121, accuracy = 0.9960\n",
            "Epoch: 58, Training Loss: 0.0130, Validation Loss: 0.0106, accuracy = 0.9960\n",
            "Epoch: 59, Training Loss: 0.0118, Validation Loss: 0.0088, accuracy = 0.9970\n",
            "Epoch: 60, Training Loss: 0.0112, Validation Loss: 0.0054, accuracy = 0.9980\n",
            "Epoch: 61, Training Loss: 0.0092, Validation Loss: 0.0119, accuracy = 0.9980\n",
            "Epoch: 62, Training Loss: 0.0121, Validation Loss: 0.0068, accuracy = 0.9980\n",
            "Epoch: 63, Training Loss: 0.0113, Validation Loss: 0.0067, accuracy = 0.9980\n",
            "Epoch: 64, Training Loss: 0.0122, Validation Loss: 0.0040, accuracy = 0.9990\n",
            "Epoch: 65, Training Loss: 0.0101, Validation Loss: 0.0233, accuracy = 0.9929\n",
            "Epoch: 66, Training Loss: 0.0126, Validation Loss: 0.0047, accuracy = 0.9980\n",
            "Epoch: 67, Training Loss: 0.0120, Validation Loss: 0.0042, accuracy = 0.9980\n",
            "Epoch: 68, Training Loss: 0.0119, Validation Loss: 0.0067, accuracy = 0.9980\n",
            "Epoch: 69, Training Loss: 0.0142, Validation Loss: 0.0052, accuracy = 0.9970\n",
            "Epoch: 70, Training Loss: 0.0079, Validation Loss: 0.0043, accuracy = 0.9980\n",
            "Epoch: 71, Training Loss: 0.0100, Validation Loss: 0.0070, accuracy = 0.9970\n",
            "Epoch: 72, Training Loss: 0.0084, Validation Loss: 0.0040, accuracy = 0.9990\n",
            "Epoch: 73, Training Loss: 0.0098, Validation Loss: 0.0061, accuracy = 0.9970\n",
            "Epoch: 74, Training Loss: 0.0100, Validation Loss: 0.0066, accuracy = 0.9960\n",
            "Epoch: 75, Training Loss: 0.0115, Validation Loss: 0.0054, accuracy = 0.9980\n",
            "Epoch: 76, Training Loss: 0.0102, Validation Loss: 0.0077, accuracy = 0.9980\n",
            "Epoch: 77, Training Loss: 0.0127, Validation Loss: 0.0059, accuracy = 0.9990\n",
            "Epoch: 78, Training Loss: 0.0101, Validation Loss: 0.0037, accuracy = 0.9970\n",
            "Epoch: 79, Training Loss: 0.0119, Validation Loss: 0.0085, accuracy = 0.9980\n",
            "Epoch: 80, Training Loss: 0.0123, Validation Loss: 0.0051, accuracy = 0.9980\n",
            "Epoch: 81, Training Loss: 0.0120, Validation Loss: 0.0051, accuracy = 0.9970\n",
            "Epoch: 82, Training Loss: 0.0096, Validation Loss: 0.0057, accuracy = 0.9970\n",
            "Epoch: 83, Training Loss: 0.0109, Validation Loss: 0.0095, accuracy = 0.9970\n",
            "Epoch: 84, Training Loss: 0.0127, Validation Loss: 0.0113, accuracy = 0.9980\n",
            "Epoch: 85, Training Loss: 0.0091, Validation Loss: 0.0223, accuracy = 0.9950\n",
            "Epoch: 86, Training Loss: 0.0088, Validation Loss: 0.0379, accuracy = 0.9919\n",
            "Epoch: 87, Training Loss: 0.0093, Validation Loss: 0.0070, accuracy = 0.9980\n",
            "Epoch: 88, Training Loss: 0.0117, Validation Loss: 0.0094, accuracy = 0.9980\n",
            "Epoch: 89, Training Loss: 0.0089, Validation Loss: 0.0112, accuracy = 0.9980\n",
            "Epoch: 90, Training Loss: 0.0057, Validation Loss: 0.0095, accuracy = 0.9960\n",
            "Epoch: 91, Training Loss: 0.0124, Validation Loss: 0.0081, accuracy = 0.9980\n",
            "Epoch: 92, Training Loss: 0.0109, Validation Loss: 0.0123, accuracy = 0.9950\n",
            "Epoch: 93, Training Loss: 0.0087, Validation Loss: 0.0087, accuracy = 0.9970\n",
            "Epoch: 94, Training Loss: 0.0108, Validation Loss: 0.0063, accuracy = 0.9970\n",
            "Epoch: 95, Training Loss: 0.0086, Validation Loss: 0.0058, accuracy = 0.9960\n",
            "Epoch: 96, Training Loss: 0.0088, Validation Loss: 0.0108, accuracy = 0.9970\n",
            "Epoch: 97, Training Loss: 0.0086, Validation Loss: 0.0044, accuracy = 0.9970\n",
            "Epoch: 98, Training Loss: 0.0069, Validation Loss: 0.0072, accuracy = 0.9970\n",
            "Epoch: 99, Training Loss: 0.0118, Validation Loss: 0.0092, accuracy = 0.9970\n",
            "\n"
          ],
          "name": "stdout"
        }
      ]
    },
    {
      "cell_type": "code",
      "metadata": {
        "id": "4ijQyvWvRFtu"
      },
      "source": [
        "def test_model(model):\n",
        "    correct = 0\n",
        "    total = 0\n",
        "    with torch.no_grad():\n",
        "        for data in dataloaders['test']:\n",
        "            images, labels = data[0].to(device), data[1].to(device)\n",
        "            outputs = model(images)\n",
        "            _, predicted = torch.max(outputs.data, 1)\n",
        "            total += labels.size(0)\n",
        "            correct += (predicted == labels).sum().item()\n",
        "    print('correct: {:d}  total: {:d}'.format(correct, total))\n",
        "    print('accuracy = {:f}'.format(correct / total))"
      ],
      "execution_count": null,
      "outputs": []
    },
    {
      "cell_type": "code",
      "metadata": {
        "id": "qozP_E1QbHx1"
      },
      "source": [
        "torch.save(model, \"./trained_model.pt\")\n",
        "model_save_name = 'model_f.pt'\n",
        "path = F\"/content/gdrive/MyDrive/{model_save_name}\" \n",
        "torch.save(model.state_dict(), path)"
      ],
      "execution_count": null,
      "outputs": []
    },
    {
      "cell_type": "code",
      "metadata": {
        "colab": {
          "base_uri": "https://localhost:8080/"
        },
        "id": "xCggPVoufN5u",
        "outputId": "a02681c1-d4e2-4720-8098-ea6e66dc94fd"
      },
      "source": [
        "test_model(model)"
      ],
      "execution_count": null,
      "outputs": [
        {
          "output_type": "stream",
          "text": [
            "correct: 989  total: 992\n",
            "accuracy = 0.996976\n"
          ],
          "name": "stdout"
        }
      ]
    },
    {
      "cell_type": "code",
      "metadata": {
        "colab": {
          "base_uri": "https://localhost:8080/",
          "height": 295
        },
        "id": "Zh1cdz73ZcUu",
        "outputId": "19773de2-f469-4fb0-abde-3ff2e56d4c9e"
      },
      "source": [
        "import matplotlib.pyplot as plt\n",
        "\n",
        "epochs = range(0,len(train_loss))\n",
        "plt.plot(epochs, train_loss, 'g', label='Training loss')\n",
        "plt.plot(epochs, test_loss, 'r', label='Validation loss')\n",
        "plt.title('loss')\n",
        "plt.xlabel('Epochs')\n",
        "plt.ylabel('Loss')\n",
        "plt.legend()\n",
        "plt.show()"
      ],
      "execution_count": null,
      "outputs": [
        {
          "output_type": "display_data",
          "data": {
            "image/png": "[encoded data removed]",
            "text/plain": [
              "<Figure size 432x288 with 1 Axes>"
            ]
          },
          "metadata": {
            "tags": [],
            "needs_background": "light"
          }
        }
      ]
    },
    {
      "cell_type": "markdown",
      "metadata": {
        "id": "NbMGGSnkOcuW"
      },
      "source": [
        "#Testing\n"
      ]
    },
    {
      "cell_type": "code",
      "metadata": {
        "id": "wFKDw9kQaRwL"
      },
      "source": [
        "prototxt_path = '/content/deploy.prototxt'\n",
        "faceDetect_path = '/content/faceDetect.caffemodel'"
      ],
      "execution_count": null,
      "outputs": []
    },
    {
      "cell_type": "code",
      "metadata": {
        "colab": {
          "base_uri": "https://localhost:8080/"
        },
        "id": "SeW33kHGgxRq",
        "outputId": "312a2beb-468b-41fd-9837-f6d23867a979"
      },
      "source": [
        "import cv2\n",
        "print(\"loading models\")\n",
        "maskDetectModel = torch.load(\"/content/trained_model.pth\")\n",
        "maskDetectModel.eval()\n",
        "faceDetectModel = cv2.dnn.readNetFromCaffe(prototxt_path, faceDetect_path)"
      ],
      "execution_count": null,
      "outputs": [
        {
          "output_type": "stream",
          "text": [
            "loading models\n"
          ],
          "name": "stdout"
        }
      ]
    },
    {
      "cell_type": "code",
      "metadata": {
        "id": "25ZxsSyGg_jd"
      },
      "source": [
        "def detect_face(image):\n",
        "    (h, w) = image.shape[:2]\n",
        "    blob = cv2.dnn.blobFromImage(cv2.resize(image, (300, 300)), 1.0, (300, 300), (104.0, 177.0, 123.0))\n",
        "    faceDetectModel.setInput(blob)\n",
        "    detections = faceDetectModel.forward()\n",
        "    faces=[]\n",
        "    positions=[]\n",
        "    for i in range(0, detections.shape[2]):\n",
        "        box = detections[0, 0, i, 3:7] * np.array([w, h, w, h])\n",
        "        (startX, startY, endX, endY) = box.astype(\"int\")\n",
        "        (startX,startY)=(max(0,startX-15),max(0,startY-15))\n",
        "        (endX,endY)=(min(w-1,endX+15),min(h-1,endY+15))\n",
        "        confidence = detections[0, 0, i, 2]\n",
        "        # If confidence > 0.5, show box around face\n",
        "        if (confidence > 0.3):\n",
        "            face = frame[startY:endY, startX:endX]\n",
        "            faces.append(face)\n",
        "            positions.append((startX,startY,endX,endY))\n",
        "    return faces,positions\n"
      ],
      "execution_count": null,
      "outputs": []
    },
    {
      "cell_type": "code",
      "metadata": {
        "id": "LDD3xPP9hCls"
      },
      "source": [
        "def detect_mask(faces):\n",
        "    predictions = []\n",
        "    image_transforms = transforms.Compose([transforms.Resize(size=(244,244)), transforms.ToTensor(),transforms.Normalize([0.485, 0.456, 0.406], [0.229, 0.224, 0.225])])\n",
        "    if (len(faces)>0):\n",
        "        for img in faces:\n",
        "            img = Image.fromarray(img)\n",
        "            img = image_transforms(img).to(device)\n",
        "            img = img.unsqueeze(0).to(device)\n",
        "            prediction = maskDetectModel(img).to(device)\n",
        "            prediction = prediction.argmax().to(device)\n",
        "            predictions.append(prediction.data)\n",
        "    return predictions"
      ],
      "execution_count": null,
      "outputs": []
    },
    {
      "cell_type": "code",
      "metadata": {
        "id": "TvbPwQr0hKgS"
      },
      "source": [
        "cap = cv2.VideoCapture(\"/content/IMG_5105.mp4\")\n",
        "fourcc = cv2.VideoWriter_fourcc(*'XVID')\n",
        "out = cv2.VideoWriter(\"output.mp4\",fourcc, 30,(1920,1080))"
      ],
      "execution_count": null,
      "outputs": []
    },
    {
      "cell_type": "code",
      "metadata": {
        "colab": {
          "base_uri": "https://localhost:8080/"
        },
        "id": "5fOiTmJwh7Zr",
        "outputId": "f0cedb68-03ab-4602-fb22-4ed18d201c7b"
      },
      "source": [
        "import numpy as np\n",
        "\n",
        "  #ret, frame = cap.read()\n",
        "frame = cv2.imread(\"/content/2559.jpg\")\n",
        "(faces,postions) = detect_face(frame)\n",
        "\n",
        "\n",
        "predictions=detect_mask(faces)\n",
        "    \n",
        "for(box,prediction) in zip(postions,predictions):\n",
        "  (startX, startY, endX, endY) = box\n",
        "  label = \"Mask\" if prediction == 0 else \"No Mask\"\n",
        "  color = (0, 255, 0) if label == \"Mask\" else (255,0,0)\n",
        "  cv2.putText(frame, label, (startX, startY - 10), cv2.FONT_HERSHEY_SIMPLEX, 0.45, color, 2)\n",
        "  cv2.rectangle(frame,(startX, startY),(endX, endY),color,2)\n",
        "    # Display the resulting frame\n",
        "cv2.imwrite('frame.png',frame)\n",
        "  #out.write(frame)\n"
      ],
      "execution_count": null,
      "outputs": [
        {
          "output_type": "execute_result",
          "data": {
            "text/plain": [
              "True"
            ]
          },
          "metadata": {
            "tags": []
          },
          "execution_count": 14
        }
      ]
    },
    {
      "cell_type": "code",
      "metadata": {
        "id": "oBSSPGYC3LT_"
      },
      "source": [
        ""
      ],
      "execution_count": null,
      "outputs": []
    }
  ]
}